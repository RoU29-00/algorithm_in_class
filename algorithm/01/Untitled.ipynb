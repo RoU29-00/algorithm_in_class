{
 "cells": [
  {
   "cell_type": "code",
   "execution_count": 1,
   "id": "0c1873ad-6bcb-4449-b921-e9f001523e82",
   "metadata": {},
   "outputs": [],
   "source": [
    "import numpy as np"
   ]
  },
  {
   "cell_type": "code",
   "execution_count": 5,
   "id": "0eeb056f-fc77-4838-a5d1-7262d4fa62b3",
   "metadata": {},
   "outputs": [
    {
     "name": "stdout",
     "output_type": "stream",
     "text": [
      "0.8890339272794642\n",
      "0.2434545261716734\n",
      "0.4597836804834009\n",
      "0.07701680701842739\n",
      "0.44227509787240327\n",
      "0.8473577216146508\n",
      "0.2684076981373441\n",
      "0.37789378007625385\n",
      "0.7411194158338946\n",
      "0.4852514664284391\n"
     ]
    }
   ],
   "source": [
    "for _ in range(10):\n",
    "    A = np.random.rand()\n",
    "    print(A)"
   ]
  },
  {
   "cell_type": "code",
   "execution_count": null,
   "id": "fdb0b9e5-97a4-4bd1-b35b-64c70f1b56e1",
   "metadata": {},
   "outputs": [],
   "source": []
  }
 ],
 "metadata": {
  "kernelspec": {
   "display_name": "Python 3 (ipykernel)",
   "language": "python",
   "name": "python3"
  },
  "language_info": {
   "codemirror_mode": {
    "name": "ipython",
    "version": 3
   },
   "file_extension": ".py",
   "mimetype": "text/x-python",
   "name": "python",
   "nbconvert_exporter": "python",
   "pygments_lexer": "ipython3",
   "version": "3.11.2"
  }
 },
 "nbformat": 4,
 "nbformat_minor": 5
}
