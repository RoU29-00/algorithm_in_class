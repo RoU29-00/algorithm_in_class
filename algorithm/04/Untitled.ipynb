{
 "cells": [
  {
   "cell_type": "code",
   "execution_count": 2,
   "id": "29123cc5-4744-42de-8190-9e48cf7093ca",
   "metadata": {},
   "outputs": [],
   "source": [
    "import networkx as nx\n",
    "import random"
   ]
  },
  {
   "cell_type": "code",
   "execution_count": 3,
   "id": "1a4da503-54ed-416a-9248-f70cc1947214",
   "metadata": {},
   "outputs": [],
   "source": [
    "def my_extract_min(D,X):\n",
    "    arg_min = -1\n",
    "    min_value = float(\"inf\")\n",
    "    \n",
    "    for i in range(len(D)):\n",
    "        if D[i] < min_value:\n",
    "            if i in X:\n",
    "                arg_min = i\n",
    "                min_value = D[i]\n",
    "    return arg_min\n",
    "\n",
    "\n",
    "def my_Dikstra(G,s):\n",
    "    X = set(G.nodes)\n",
    "    D = [float(\"inf\")] * nx.number_of_nodes(G)\n",
    "    D[s] = 0\n",
    "    \n",
    "    while X:\n",
    "        u = my_extract_min(D,X)\n",
    "        X.remove(u)\n",
    "        for v in G.neighbors(u):\n",
    "            if v in X:\n",
    "                new_distance = D[u] + G.edges[u,v][\"weight\"]\n",
    "                if D[v] > new_distance:\n",
    "                           D[v] = new_distance\n",
    "    return D"
   ]
  },
  {
   "cell_type": "code",
   "execution_count": 5,
   "id": "160e5850-92a7-4957-a617-0c554382ac00",
   "metadata": {},
   "outputs": [],
   "source": [
    "#create random graph models\n",
    "\n",
    "def create_random_graph():\n",
    "    #for x in range(1,10):\n",
    "        G = nx.fast_gnp_random_graph(10,0.1)\n",
    "\n",
    "        for (u, v) in G.edges():\n",
    "            G.edges[u,v][\"weight\"] = random.randint(1,10)\n",
    "\n",
    "        nx.write_weighted_edgelist(G, \"random_{0}.edgelist\".format(10))\n",
    "create_random_graph()"
   ]
  },
  {
   "cell_type": "code",
   "execution_count": 33,
   "id": "09f76489-ca26-4857-a74f-bf324c3d8265",
   "metadata": {},
   "outputs": [
    {
     "name": "stdout",
     "output_type": "stream",
     "text": [
      "0.3256765666883439\n",
      "1.210139966647451\n",
      "2.7803366999917976\n",
      "5.166359433283408\n",
      "7.521021533369397\n",
      "10.884795933340987\n",
      "15.50019700002546\n",
      "20.00661310002518\n",
      "25.847541499960546\n",
      "31.365835066651925\n"
     ]
    }
   ],
   "source": [
    "#caluculate time\n",
    "import timeit\n",
    "for x in  range(1,11):\n",
    "    G = nx.read_weighted_edgelist(\"random_{0}.edgelist\".format(x * 1000), nodetype=int)\n",
    "\n",
    "    num = 3\n",
    "    total_time = timeit.timeit(\"my_Dikstra(G,0)\", globals=globals(), number=num)\n",
    "\n",
    "    average_time = total_time/num\n",
    "\n",
    "    print(average_time)"
   ]
  },
  {
   "cell_type": "code",
   "execution_count": 34,
   "id": "fcfebe55-6e28-46b1-b910-618af78a0d05",
   "metadata": {},
   "outputs": [],
   "source": [
    "import heapq\n",
    "\n",
    "def my_Dikstra2(G,s):\n",
    "    Q = []\n",
    "    heapq.heappush(Q, G.nodes)\n",
    "    D = [float(\"inf\")] * nx.number_of_nodes(G)\n",
    "    heapq.heappush(D, (0,s))\n",
    "    \n",
    "    while Q:\n",
    "        min_value, argmin_index = heapq.heappop(Q)\n",
    "        for v in G.neighbors(argmin_index):\n",
    "            if v in Q:\n",
    "                new_distance = D[argmin_index] + G.edges[argmin_index,v][\"weight\"]\n",
    "                if D[v] > new_distance:\n",
    "                           D[v] = new_distance\n",
    "    return D\n",
    "\n",
    "\n",
    "def dijkstra_chatGPT(graph, start):\n",
    "    # 初期化\n",
    "    distances = {vertex: float('inf') for vertex in graph}\n",
    "    distances[start] = 0\n",
    "    pq = [(0, start)]\n",
    "\n",
    "    while pq:\n",
    "        # 未処理の中で最も距離が小さい頂点を取得\n",
    "        (current_distance, current_vertex) = heapq.heappop(pq)\n",
    "\n",
    "        # すでに処理済みの場合はスキップ\n",
    "        if current_distance > distances[current_vertex]:\n",
    "            continue\n",
    "\n",
    "        # 隣接する頂点に対して最短距離を更新\n",
    "        for neighbor in graph[current_vertex]:\n",
    "            distance = current_distance + graph.edges[current_vertex, neighbor]['weight']\n",
    "            if distance < distances[neighbor]:\n",
    "                distances[neighbor] = distance\n",
    "                heapq.heappush(pq, (distance, neighbor))\n",
    "\n",
    "    return distances"
   ]
  },
  {
   "cell_type": "code",
   "execution_count": null,
   "id": "d0ffc6cc-2329-4b8b-b269-163c1f0ae8c7",
   "metadata": {},
   "outputs": [],
   "source": []
  }
 ],
 "metadata": {
  "kernelspec": {
   "display_name": "Python 3 (ipykernel)",
   "language": "python",
   "name": "python3"
  },
  "language_info": {
   "codemirror_mode": {
    "name": "ipython",
    "version": 3
   },
   "file_extension": ".py",
   "mimetype": "text/x-python",
   "name": "python",
   "nbconvert_exporter": "python",
   "pygments_lexer": "ipython3",
   "version": "3.11.2"
  }
 },
 "nbformat": 4,
 "nbformat_minor": 5
}
