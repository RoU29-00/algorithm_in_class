{
 "cells": [
  {
   "cell_type": "code",
   "execution_count": 3,
   "id": "ee7b779c-610f-4680-a522-df8fcf014921",
   "metadata": {},
   "outputs": [
    {
     "data": {
      "text/plain": [
       "<networkx.classes.graph.Graph at 0x2160c791650>"
      ]
     },
     "execution_count": 3,
     "metadata": {},
     "output_type": "execute_result"
    }
   ],
   "source": [
    "import networkx as nx\n",
    "import matplotlib.pyplot as plt\n",
    "\n",
    "G = nx.read_weighted_edgelist('dij.edgelist.txt', nodetype=int)\n",
    "G"
   ]
  },
  {
   "cell_type": "code",
   "execution_count": null,
   "id": "3ba5ab76-c87f-4c3d-a37e-0309b90b958a",
   "metadata": {},
   "outputs": [],
   "source": []
  },
  {
   "cell_type": "code",
   "execution_count": null,
   "id": "871d7ffa-f7b9-4ec4-aa6e-51002c7c9180",
   "metadata": {},
   "outputs": [],
   "source": []
  },
  {
   "cell_type": "code",
   "execution_count": 6,
   "id": "d29832f9-fff1-49fe-bb98-eaa64c38bf75",
   "metadata": {},
   "outputs": [],
   "source": [
    "def my_extract_min(D,X):\n",
    "    arg_min = -1\n",
    "    min_value = float(\"inf\")\n",
    "    \n",
    "    for i in range(len(D)):\n",
    "        if D[i] < min_value:\n",
    "            if i in X:\n",
    "                arg_min = i\n",
    "                min_value = D[i]\n",
    "    return arg_min\n",
    "\n",
    "\n",
    "def my_Dikstra(G,s):\n",
    "    X = set(G.nodes)\n",
    "    D = [float(\"inf\")] * nx.number_of_nodes(G)\n",
    "    D[s] = 0\n",
    "    \n",
    "    while X:\n",
    "        u = my_extract_min(D,X)\n",
    "        X.remove(u)\n",
    "        for v in G.neighbors(u):\n",
    "            if v in X:\n",
    "                new_distance = D[u] + G.edges[u,v][\"weight\"]\n",
    "                if D[v] > new_distance:\n",
    "                           D[v] = new_distance\n",
    "    return D"
   ]
  },
  {
   "cell_type": "code",
   "execution_count": 7,
   "id": "b4ffb7ce-0684-4eee-842a-8ba3fbd08343",
   "metadata": {},
   "outputs": [
    {
     "data": {
      "text/plain": [
       "[0, 4.0, 12.0, 19.0, 22.0, 12.0, 10.0, 9.0, 14.0]"
      ]
     },
     "execution_count": 7,
     "metadata": {},
     "output_type": "execute_result"
    }
   ],
   "source": [
    "my_Dikstra(G,0)"
   ]
  },
  {
   "cell_type": "code",
   "execution_count": null,
   "id": "78c334f7-f512-452c-8088-3f044fbbbaa0",
   "metadata": {},
   "outputs": [],
   "source": []
  }
 ],
 "metadata": {
  "kernelspec": {
   "display_name": "Python 3 (ipykernel)",
   "language": "python",
   "name": "python3"
  },
  "language_info": {
   "codemirror_mode": {
    "name": "ipython",
    "version": 3
   },
   "file_extension": ".py",
   "mimetype": "text/x-python",
   "name": "python",
   "nbconvert_exporter": "python",
   "pygments_lexer": "ipython3",
   "version": "3.11.2"
  }
 },
 "nbformat": 4,
 "nbformat_minor": 5
}
