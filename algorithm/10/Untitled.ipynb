{
 "cells": [
  {
   "cell_type": "raw",
   "id": "a5d5cd18-1fb3-41f1-8684-9ae93cf6ae57",
   "metadata": {},
   "source": [
    "import networkx as nx\n",
    "\n",
    "#read\n",
    "G = nx.read_weighted_edgelist(\"ff.edgelist\", create_using=nx.DiGraph(), nodetype=int)\n",
    "\n",
    "def find_augmentpath(N, s, t):\n",
    "    P = [-1] * nx.number_of_nodes(N)\n",
    "    visited = set()\n",
    "    stack = deque()\n",
    "    stack.appendleft(s)\n",
    "    while stack:\n",
    "        v = stack.popleft()\n",
    "        if v == t:\n",
    "            #tに達したら(P, True)を返す\n",
    "        if not v in visited:\n",
    "            visited.add(v)\n",
    "            if not w in visited and #重み0の辺 :\n",
    "            stack.appendleft(w)\n",
    "            #wの直前の点はvというのを記憶\n",
    "    return False"
   ]
  },
  {
   "cell_type": "code",
   "execution_count": 2,
   "id": "edd72c24-db57-44d5-a396-43f2743f57d0",
   "metadata": {},
   "outputs": [
    {
     "data": {
      "text/plain": [
       "([-1, 2, 0, 4, 2, 4], True)"
      ]
     },
     "execution_count": 2,
     "metadata": {},
     "output_type": "execute_result"
    },
    {
     "data": {
      "image/png": "[encoded data removed]",
      "text/plain": [
       "<Figure size 640x480 with 1 Axes>"
      ]
     },
     "metadata": {},
     "output_type": "display_data"
    }
   ],
   "source": [
    "import networkx as nx\n",
    "from collections import deque\n",
    "\n",
    "# read\n",
    "G = nx.read_weighted_edgelist(\"ff.edgelist\", create_using=nx.DiGraph(), nodetype=int)\n",
    "def find_augmentpath(N, s, t):\n",
    "    P = [-1] * nx.number_of_nodes(N)\n",
    "    visited = set()\n",
    "    stack = deque()\n",
    "    stack.appendleft(s)\n",
    "    while stack:\n",
    "        v = stack.popleft()\n",
    "        if v == t:\n",
    "            return P, True\n",
    "        if not v in visited:\n",
    "            visited.add(v)\n",
    "            for w in N.neighbors(v):\n",
    "                if not w in visited and N.edges[v, w]['weight'] > 0:\n",
    "                    stack.appendleft(w)\n",
    "                    P[w] = v\n",
    "    return P, False\n",
    "\n",
    "\n",
    "nx.draw_networkx(G)\n",
    "\n",
    "find_augmentpath(G, 0, 5)"
   ]
  },
  {
   "cell_type": "code",
   "execution_count": 13,
   "id": "fb55a1ea-4aec-4102-a196-6d3fba9920f7",
   "metadata": {},
   "outputs": [
    {
     "data": {
      "text/plain": [
       "(<networkx.classes.digraph.DiGraph at 0x27922aed4d0>,\n",
       " {(0, 1): 0,\n",
       "  (1, 0): 0,\n",
       "  (0, 2): 0,\n",
       "  (2, 0): 0,\n",
       "  (1, 2): 0,\n",
       "  (2, 1): 0,\n",
       "  (1, 3): 0,\n",
       "  (3, 1): 0,\n",
       "  (2, 4): 0,\n",
       "  (4, 2): 0,\n",
       "  (3, 2): 0,\n",
       "  (2, 3): 0,\n",
       "  (3, 5): 0,\n",
       "  (5, 3): 0,\n",
       "  (4, 3): 0,\n",
       "  (3, 4): 0,\n",
       "  (4, 5): 0,\n",
       "  (5, 4): 0})"
      ]
     },
     "execution_count": 13,
     "metadata": {},
     "output_type": "execute_result"
    }
   ],
   "source": [
    "def restore_shortestpath(u, v, P):\n",
    "    path = []\n",
    "    temp = v\n",
    "    while temp != u:\n",
    "        parent = P[temp]\n",
    "        path.apppend((parent,  temp))\n",
    "        temp = parent\n",
    "    path.reverse()\n",
    "    return path\n",
    "\n",
    "def min_capacity(N, path):\n",
    "    min_cap = float(\"inf\")\n",
    "    for u, v in path:\n",
    "        capacity = N.edges[u, v][\"weight\"]\n",
    "        if capacity < min_cap:\n",
    "            min_cap = capacity\n",
    "    return min_cap\n",
    "\n",
    "\n",
    "def increase_flow(N, path, amount, flow):\n",
    "    # (u, v)について\n",
    "    for u, v in path:\n",
    "        #フローが0以下なら(u,v)フローをamountだけ打ち消す\n",
    "        if flow[(u, v)] <= 0:\n",
    "            flow[(u, v)] += amount\n",
    "        #そうでないならマイナス処理\n",
    "        else:\n",
    "            flow[(u, v)] -= amount\n",
    "        #N.edgesに(u, v) or (v, u)なかったら追加する\n",
    "        if (u, v) not in N.edges:\n",
    "            N.add_edge(u, v, weight=0)\n",
    "        if (v, u) not in N.edges:\n",
    "            N.add_edge(v, u, weight=0)\n",
    "        #残余容量を増減する処理\n",
    "        N.edges[u, v][\"weight\"] -= amount\n",
    "        N.edges[v, u][\"weight\"] += amount\n",
    "\n",
    "\n",
    "def my_Ford_Fulkerson(G, s, t):\n",
    "    N = G.copy()\n",
    "    f = {}\n",
    "    for u, v in N.edges:\n",
    "        f[(u, v)] = 0\n",
    "        f[(v, u)] = 0\n",
    "    P, is_found = find_augmentpath(N, s, t)\n",
    "    while is_found:\n",
    "        augmentpath = restore_shortestpath(s, t, P)\n",
    "        min_cap = min_capacity(N, augmentpath)\n",
    "        increase_flow(N, augmentpath, min_cap, f)\n",
    "        P, is_found = find_augmentpath(N, s, t)\n",
    "    return N, f\n",
    "\n",
    "my_Ford_Fulkerson(G, 0, 5)"
   ]
  },
  {
   "cell_type": "code",
   "execution_count": null,
   "id": "01795522-2221-480e-86e6-67e3854014b8",
   "metadata": {},
   "outputs": [],
   "source": []
  }
 ],
 "metadata": {
  "kernelspec": {
   "display_name": "Python 3 (ipykernel)",
   "language": "python",
   "name": "python3"
  },
  "language_info": {
   "codemirror_mode": {
    "name": "ipython",
    "version": 3
   },
   "file_extension": ".py",
   "mimetype": "text/x-python",
   "name": "python",
   "nbconvert_exporter": "python",
   "pygments_lexer": "ipython3",
   "version": "3.11.2"
  }
 },
 "nbformat": 4,
 "nbformat_minor": 5
}
