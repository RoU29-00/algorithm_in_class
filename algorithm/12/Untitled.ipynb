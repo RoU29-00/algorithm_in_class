{
 "cells": [
  {
   "cell_type": "code",
   "execution_count": 14,
   "id": "b671ea9e-0697-4ddc-ae14-fa7ee4bbd9cc",
   "metadata": {},
   "outputs": [
    {
     "name": "stdout",
     "output_type": "stream",
     "text": [
      "11.0\n"
     ]
    }
   ],
   "source": [
    "from Bio.Align import PairwiseAligner\n",
    "from Bio.Align import substitution_matrices\n",
    "\n",
    "#substitution matrix download\n",
    "M = substitution_matrices.load(\"BLOSUM62\")\n",
    "\n",
    "aligner = PairwiseAligner(mode=\"global\", substitution_matrix=M, gap_score=-1)\n",
    "\n",
    "alignments = aligner.align(\"KELAS\", \"ELS\")\n",
    "print(alignments[0].score)"
   ]
  },
  {
   "cell_type": "code",
   "execution_count": 15,
   "id": "e5ab3b81-7897-40d5-91b7-a83dbdcf56cf",
   "metadata": {},
   "outputs": [],
   "source": [
    "def needleman_wunsch_alignment_score(s1, s2, M, d):\n",
    "    #初期化\n",
    "    n = len(s1)\n",
    "    m = len(s2)\n",
    "    score_matrix = [[0] * (m + 1) for _ in range(n + 1)]\n",
    "    \n",
    "    for i in range(n + 1):\n",
    "        score_matrix[i][0] = d * i\n",
    "    for j in range(m + 1):\n",
    "        score_matrix[0][j] = d * j\n",
    "\n",
    "    # スコア行列の計算(反復)\n",
    "    for i in range(1, n + 1):\n",
    "        for j in range(1, m + 1):\n",
    "            match = score_matrix[i - 1][j - 1] + M[s1[i - 1], s2[j - 1]]\n",
    "            delete = score_matrix[i - 1][j] + d\n",
    "            insert = score_matrix[i][j - 1] + d\n",
    "            score_matrix[i][j] = max(match, delete, insert)\n",
    "\n",
    "    # 最適アラインメントのスコアを返す\n",
    "    return score_matrix[n][m]"
   ]
  },
  {
   "cell_type": "code",
   "execution_count": 16,
   "id": "842642b4-c749-44fa-ad73-885aa53110de",
   "metadata": {
    "tags": []
   },
   "outputs": [],
   "source": [
    "def Needleman_Wunsch(s1, s2, M, d):\n",
    "    #初期化\n",
    "    n = len(s1)\n",
    "    m = len(s2)\n",
    "    score = [[0] * (m + 1) for _ in range(n + 1)]\n",
    "    \n",
    "    for i in range(m):\n",
    "        score[0][i] = (-d) * i\n",
    "    for j in range(n):\n",
    "        score[j][0] = (-d) * j\n",
    "        \n",
    "    # スコア行列の計算\n",
    "    for j in range(1, m + 1):\n",
    "        for i in range(1, n + 1):\n",
    "            f = score[i - 1][j] - d\n",
    "            s = score[i][j - 1] - d\n",
    "            t = score[i - 1][j - 1] + M[s1[i - 1], s2[j - 1]]\n",
    "            score[i][j] = max(f,s,t)\n",
    "\n",
    "    # 最適アラインメントのスコアを返す\n",
    "    return score[n][m]"
   ]
  },
  {
   "cell_type": "code",
   "execution_count": null,
   "id": "cd6cc61b-6162-4a50-8037-730dfb76fd1b",
   "metadata": {},
   "outputs": [
    {
     "data": {
      "text/plain": [
       "11.0"
      ]
     },
     "execution_count": 17,
     "metadata": {},
     "output_type": "execute_result"
    }
   ],
   "source": [
    "Needleman_Wunsch(\"KELAS\", \"ELS\", M, 1)"
   ]
  },
  {
   "cell_type": "code",
   "execution_count": null,
   "id": "03fca56e-46c5-4524-a21d-8de38df077b6",
   "metadata": {},
   "outputs": [],
   "source": [
    "import pandas as pd\n",
    "import numpy as np\n",
    "\n",
    "df = pd.read_csv(\"cycsamples.csv\", encoding=\"utf-8_sig\")\n",
    "\n",
    "cytchrome_c = df[\"sequence\"]\n",
    "\n",
    "nrow = len(df)\n",
    "\n",
    "result = [[0] * (20) for _ in range(20)]\n",
    "\n",
    "for i in range(nrow):\n",
    "    for j in range(nrow):\n",
    "        result[i][j] = Needleman_Wunsch(cytchrome_c[i], cytchrome_c[j], M, 10)\n",
    "        \n",
    "result_data = pd.DataFrame(result, index=df[\"name\"], columns=df[\"name\"])\n",
    "result_data.to_csv(\"alignment.csv\", encoding=\"utf-8_sig\")"
   ]
  },
  {
   "cell_type": "code",
   "execution_count": null,
   "id": "175a0180-06f4-488a-91a1-ab017021eba2",
   "metadata": {},
   "outputs": [],
   "source": []
  },
  {
   "cell_type": "code",
   "execution_count": null,
   "id": "2e33f9c2-2ed7-490e-9091-b6135b52e4be",
   "metadata": {},
   "outputs": [],
   "source": []
  }
 ],
 "metadata": {
  "kernelspec": {
   "display_name": "Python 3 (ipykernel)",
   "language": "python",
   "name": "python3"
  },
  "language_info": {
   "codemirror_mode": {
    "name": "ipython",
    "version": 3
   },
   "file_extension": ".py",
   "mimetype": "text/x-python",
   "name": "python",
   "nbconvert_exporter": "python",
   "pygments_lexer": "ipython3",
   "version": "3.11.2"
  }
 },
 "nbformat": 4,
 "nbformat_minor": 5
}
