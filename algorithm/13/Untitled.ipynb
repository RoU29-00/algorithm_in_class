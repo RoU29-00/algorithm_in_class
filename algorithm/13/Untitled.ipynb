{
 "cells": [
  {
   "cell_type": "code",
   "execution_count": 40,
   "id": "136e34f1-9619-4a05-b5d7-555216a83724",
   "metadata": {},
   "outputs": [
    {
     "name": "stdout",
     "output_type": "stream",
     "text": [
      "                            *                               \n",
      "                         *  *  *                            \n",
      "                      *  *        *                         \n",
      "                   *  *     *  *  *  *                      \n",
      "                *  *        *           *                   \n",
      "             *  *     *  *  *  *     *  *  *                \n",
      "          *  *        *              *        *             \n",
      "       *  *     *  *  *  *        *  *  *  *  *  *          \n",
      "    *  *        *           *  *  *                 *       \n",
      " *  *     *  *  *  *     *  *        *           *  *  *    \n",
      " *        *              *     *  *  *  *     *  *          \n",
      " *  *  *  *  *        *  *     *              *     *     * \n",
      "                *  *  *        *  *        *  *     *     * \n",
      " *           *  *        *  *  *     *  *  *        *     * \n",
      "    *     *  *     *  *  *           *        *  *  *     * \n",
      "    *     *        *        *     *  *  *  *  *           * \n",
      "    *     *  *  *  *  *  *  *     *              *     *  * \n",
      "    *     *                       *  *        *  *     *    \n",
      " *  *     *  *                 *  *     *  *  *        *  * \n",
      "          *     *           *  *        *        *  *  *    \n"
     ]
    }
   ],
   "source": [
    "class Cellular_Automaton:\n",
    "    def __init__(self, cells, ruleset):\n",
    "        self.cells = cells\n",
    "        self.ruleset = ruleset\n",
    "    \n",
    "    def transition(self):\n",
    "        new_cells = []\n",
    "        for i in range(len(self.cells)):\n",
    "            left = self.cells[i - 1] if i > 0 else self.cells[-1]\n",
    "            center = self.cells[i]\n",
    "            right = self.cells[i + 1] if i < len(self.cells) - 1 else self.cells[0]\n",
    "            new_cells.append(self.ruleset[(left, center, right)])\n",
    "        \n",
    "        self.cells = new_cells\n",
    "    \n",
    "    def __str__(self):\n",
    "        return \"\".join([\"*\" if c == \"1\" else \" \" for c in str(self.cells)])\n",
    "\n",
    "\n",
    "ruleset = {(0,0,0) : 0, (0,0,1): 1, (0,1,0) : 1, (0,1,1) : 1, (1,0,0) : 1, (1,0,1) : 0, (1,1,0) : 0, (1,1,1) : 0}\n",
    "\n",
    "init_state = [0] * 20\n",
    "init_state[9] = 1\n",
    "\n",
    "ca = Cellular_Automaton(init_state, ruleset)\n",
    "for i in range(20):\n",
    "    print(ca)\n",
    "    ca.transition()"
   ]
  },
  {
   "cell_type": "code",
   "execution_count": null,
   "id": "48674534-739e-4780-8331-a0aa85e7ff12",
   "metadata": {},
   "outputs": [],
   "source": []
  }
 ],
 "metadata": {
  "kernelspec": {
   "display_name": "Python 3 (ipykernel)",
   "language": "python",
   "name": "python3"
  },
  "language_info": {
   "codemirror_mode": {
    "name": "ipython",
    "version": 3
   },
   "file_extension": ".py",
   "mimetype": "text/x-python",
   "name": "python",
   "nbconvert_exporter": "python",
   "pygments_lexer": "ipython3",
   "version": "3.11.2"
  }
 },
 "nbformat": 4,
 "nbformat_minor": 5
}
