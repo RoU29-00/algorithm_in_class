{
 "cells": [
  {
   "cell_type": "code",
   "execution_count": 24,
   "id": "fe902fd9-974f-4561-b28c-4eb6c4469480",
   "metadata": {},
   "outputs": [],
   "source": [
    "import networkx as nx\n",
    "import random\n",
    "\n",
    "def my_extract_min(D,X):\n",
    "    arg_min = -1\n",
    "    min_value = float(\"inf\")\n",
    "    \n",
    "    for i in range(len(D)):\n",
    "        if D[i] < min_value:\n",
    "            if i in X:\n",
    "                arg_min = i\n",
    "                min_value = D[i]\n",
    "    return arg_min\n",
    "\n",
    "def my_Dikstra(G,s):\n",
    "    A = set()\n",
    "    X = set(G.nodes)\n",
    "    D = [float(\"inf\")] * nx.number_of_nodes(G)\n",
    "    D[s] = 0\n",
    "    PI = [-1] * nx.number_of_nodes(G)\n",
    "\n",
    "    print(len(X))\n",
    "    while (len(X)) != 0:\n",
    "        u = my_extract_min(D,X)\n",
    "        X.remove(u)\n",
    "        if u != s :\n",
    "            A.add((PI[u],u))\n",
    "        for v in G.neighbors(u):\n",
    "            if D[v] > G.edges[u,v][\"weight\"]:\n",
    "                D[v] = G.edges[u,v][\"weight\"]\n",
    "                PI[v] = u\n",
    "\n",
    "    return A\n",
    "    "
   ]
  },
  {
   "cell_type": "code",
   "execution_count": 25,
   "id": "1025e5b7-3722-4a35-a0a0-fc64d68cb0c9",
   "metadata": {},
   "outputs": [
    {
     "name": "stdout",
     "output_type": "stream",
     "text": [
      "9\n",
      "{(0, 1), (1, 2), (3, 4), (2, 3), (6, 7), (5, 6), (2, 5), (2, 8)}\n"
     ]
    }
   ],
   "source": [
    "G = nx.read_weighted_edgelist(\"dij.edgelist\", nodetype=int)\n",
    "print(my_Dikstra(G,0))"
   ]
  },
  {
   "cell_type": "code",
   "execution_count": null,
   "id": "d04c40b4-277e-407d-8950-ba696c4fc600",
   "metadata": {},
   "outputs": [],
   "source": []
  }
 ],
 "metadata": {
  "kernelspec": {
   "display_name": "Python 3 (ipykernel)",
   "language": "python",
   "name": "python3"
  },
  "language_info": {
   "codemirror_mode": {
    "name": "ipython",
    "version": 3
   },
   "file_extension": ".py",
   "mimetype": "text/x-python",
   "name": "python",
   "nbconvert_exporter": "python",
   "pygments_lexer": "ipython3",
   "version": "3.11.2"
  }
 },
 "nbformat": 4,
 "nbformat_minor": 5
}
