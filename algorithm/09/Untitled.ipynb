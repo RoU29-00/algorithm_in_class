{
 "cells": [
  {
   "cell_type": "code",
   "execution_count": 7,
   "id": "ed11082c-0cba-4175-9239-cf980b1c2b35",
   "metadata": {},
   "outputs": [
    {
     "name": "stderr",
     "output_type": "stream",
     "text": [
      "C:\\Users\\INIAD\\AppData\\Local\\Temp\\ipykernel_872\\2480523532.py:19: FutureWarning: adjacency_matrix will return a scipy.sparse array instead of a matrix in Networkx 3.0.\n",
      "  matrix = nx.adjacency_matrix(G).toarray()\n"
     ]
    },
    {
     "data": {
      "text/plain": [
       "(array([[0.        ],\n",
       "        [0.16903085],\n",
       "        [0.3380617 ],\n",
       "        [0.16903085],\n",
       "        [0.        ],\n",
       "        [0.3380617 ],\n",
       "        [0.3380617 ],\n",
       "        [0.        ],\n",
       "        [0.50709255],\n",
       "        [0.3380617 ],\n",
       "        [0.3380617 ],\n",
       "        [0.3380617 ]]),\n",
       " array([[0.32551538],\n",
       "        [0.16275769],\n",
       "        [0.40689423],\n",
       "        [0.40689423],\n",
       "        [0.32551538],\n",
       "        [0.16275769],\n",
       "        [0.16275769],\n",
       "        [0.56965192],\n",
       "        [0.16275769],\n",
       "        [0.        ],\n",
       "        [0.        ],\n",
       "        [0.16275769]]))"
      ]
     },
     "execution_count": 7,
     "metadata": {},
     "output_type": "execute_result"
    }
   ],
   "source": [
    "import networkx as nx\n",
    "import numpy as np\n",
    "\n",
    "#create\n",
    "G = nx.read_edgelist(\"pr.edgelist\", create_using=nx.DiGraph(), nodetype=int)\n",
    "#all nodes number\n",
    "n = nx.number_of_nodes(G)\n",
    "#hub Vector 0\n",
    "h0 = np.ones((n, 1))\n",
    "#sum\n",
    "sum_h0 = h0.sum(axis=0)[0]\n",
    "#change array\n",
    "A = nx.to_numpy_array(G, nodelist=range(n), weight=None)\n",
    "\n",
    "def HITS(G, h0, k):\n",
    "    #node number\n",
    "    num_nodes = len(G.nodes())\n",
    "    #start\n",
    "    matrix = nx.adjacency_matrix(G).toarray()\n",
    "    \n",
    "    \n",
    "    for _ in range(k):\n",
    "        #Authority score\n",
    "        a = np.dot(matrix.T, h0)\n",
    "        #Authority score (normalize)\n",
    "        a /= np.linalg.norm(a)\n",
    "        #Hub score\n",
    "        h0 = np.dot(matrix, a)\n",
    "        #Hub score (normalize)\n",
    "        h0 /= np.linalg.norm(h0)\n",
    "    return a, h0\n",
    "\n",
    "HITS(G, h0, 1)"
   ]
  },
  {
   "cell_type": "code",
   "execution_count": null,
   "id": "5e4cac0b-d6bf-42b4-b8bd-2e42f2bdce39",
   "metadata": {},
   "outputs": [],
   "source": []
  }
 ],
 "metadata": {
  "kernelspec": {
   "display_name": "Python 3 (ipykernel)",
   "language": "python",
   "name": "python3"
  },
  "language_info": {
   "codemirror_mode": {
    "name": "ipython",
    "version": 3
   },
   "file_extension": ".py",
   "mimetype": "text/x-python",
   "name": "python",
   "nbconvert_exporter": "python",
   "pygments_lexer": "ipython3",
   "version": "3.11.2"
  }
 },
 "nbformat": 4,
 "nbformat_minor": 5
}
