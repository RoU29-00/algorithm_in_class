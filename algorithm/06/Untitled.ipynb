{
 "cells": [
  {
   "cell_type": "code",
   "execution_count": null,
   "id": "20a5da4f-be29-4267-8ba5-a8ca5ab8d81f",
   "metadata": {},
   "outputs": [],
   "source": [
    "import networkx as nx\n",
    "\n",
    "G = nx.read_weighted_edgelist('bf.edgelist', create_using=nx.DiGraph(), nodetype=int)\n",
    "\n",
    "n = nx.number_of_nodes(G)\n",
    "D = [float(\"inf\")] * n \n",
    "\n",
    "　\n",
    "    D_new = D[:] \n",
    "    \n",
    "    \n",
    "    if D[n-1][v] > D[n-1][u]:\n",
    "        return (False, D)\n",
    "    \n",
    "    D = D_new\n",
    "\n",
    "def my_Bellman_Ford(G,s):\n",
    "    D[0] = [float(\"inf\")] * nx.number_of_nodes(G)\n",
    "    D[0][s] = 0 #D0[s]=0, s以外の点vについてはD0[v]=∞とする \n",
    "    \n",
    "    for i in range(1,n): #for i=1からn-1まで 以下を繰り返す \n",
    "        D[i][v] = D[i-1][v]\n",
    "        for u, v in G.edge(): #各点vについてDi[v] = Di-1[v]とする 各辺 (u, v) について\n",
    "            if D[i][v]> D[i-1][u] + G.edges[u,v][\"weight\"]:\n",
    "                D[i][v] = D[i-1][v]+ G.edges[u,v][\"weight\"] # if (Di[v] > Di-1 [u] + L(u,v)), then Di[v] = Di-1[u] + L(u,v) \n",
    "\n",
    "    for i in range(1,n):#for i=1からn-1まで 以下を繰り返す \n",
    "        for u, v in G.edge():#各辺 (u, v) について\n",
    "            if D[n-1][v] > D[n-1][u] + G.edges[u,v][\"weight\"]:\n",
    "                return (False, D[n-1])\n",
    "        return (True, D[n-1]) # if (Dn-1[v] > Dn-1[u] + L(u,v)), then return (False, Dn-1) } return (True, Dn-1) }"
   ]
  }
 ],
 "metadata": {
  "kernelspec": {
   "display_name": "Python 3 (ipykernel)",
   "language": "python",
   "name": "python3"
  },
  "language_info": {
   "codemirror_mode": {
    "name": "ipython",
    "version": 3
   },
   "file_extension": ".py",
   "mimetype": "text/x-python",
   "name": "python",
   "nbconvert_exporter": "python",
   "pygments_lexer": "ipython3",
   "version": "3.11.2"
  }
 },
 "nbformat": 4,
 "nbformat_minor": 5
}
